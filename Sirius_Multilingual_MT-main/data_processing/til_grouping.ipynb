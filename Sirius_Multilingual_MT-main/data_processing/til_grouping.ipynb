{
 "cells": [
  {
   "cell_type": "code",
   "execution_count": null,
   "id": "497ee445-ecd0-4223-993c-31ad6527f753",
   "metadata": {
    "tags": []
   },
   "outputs": [],
   "source": [
    "import json\n",
    "import random\n",
    "\n",
    "from sklearn.model_selection import train_test_split\n",
    "\n",
    "\n",
    "groups = {\n",
    "    \"turkic\": \"/home/jupyter/datasphere/project/data/x_alma_sets/turkic_and_semitic_languages.jsonl\",\n",
    "    \"uz\": \"/home/jupyter/datasphere/project/data/x_alma_sets/uz.jsonl\",\n",
    "    \"without_uz\": \"/home/jupyter/datasphere/project/data/x_alma_sets/without_uz.jsonl\",\n",
    "}\n",
    "\n",
    "path_to_output = \"/home/jupyter/datasphere/project/data/x_alma_sets/grouping/\"\n",
    "\n",
    "for group in groups:\n",
    "    with open(groups[group], 'r') as f:\n",
    "        group_name = groups[group].split(\".\")[0].split(\"/\")[-1]\n",
    "        group_name_train, group_name_test = path_to_output + group_name + \"_train.jsonl\", path_to_output + group_name + \"_test.jsonl\"\n",
    "        \n",
    "        data = f.read().split('\\n')\n",
    "        random.shuffle(data)\n",
    "\n",
    "        x_train, x_test = train_test_split(data, test_size=0.3)\n",
    "        \n",
    "        print(\"len \" + group_name + \" train =\", len(x_train))\n",
    "        print(\"len \" + group_name + \" test =\", len(x_test))\n",
    "        print()\n",
    "\n",
    "        with open(group_name_train, \"w\") as train_file, \\\n",
    "            open(group_name_test, \"w\") as test_file:\n",
    "        # with open(group_name_train, \"x\") as train_file, \\\n",
    "        #     open(group_name_test, \"x\") as test_file:\n",
    "                train_file.write(json.dumps(x_train) + '\\n')\n",
    "                test_file.write(json.dumps(x_test) + '\\n')\n",
    "\n",
    "print(\"success\")"
   ]
  }
 ],
 "metadata": {
  "kernelspec": {
   "display_name": "DataSphere Kernel",
   "language": "python",
   "name": "python3"
  },
  "language_info": {
   "codemirror_mode": {
    "name": "ipython",
    "version": 3
   },
   "file_extension": ".py",
   "mimetype": "text/x-python",
   "name": "python",
   "nbconvert_exporter": "python",
   "pygments_lexer": "ipython3",
   "version": "3.10.12"
  }
 },
 "nbformat": 4,
 "nbformat_minor": 5
}
