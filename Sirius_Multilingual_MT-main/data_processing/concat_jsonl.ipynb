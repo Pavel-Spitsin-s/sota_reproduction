{
 "cells": [
  {
   "cell_type": "code",
   "execution_count": 1,
   "id": "e65c3e80-2af3-46d3-b9e5-a18a09e9d411",
   "metadata": {
    "execution": {
     "iopub.execute_input": "2024-10-17T06:34:19.990619Z",
     "iopub.status.busy": "2024-10-17T06:34:19.989577Z",
     "iopub.status.idle": "2024-10-17T06:34:20.331718Z",
     "shell.execute_reply": "2024-10-17T06:34:20.330960Z",
     "shell.execute_reply.started": "2024-10-17T06:34:19.990575Z"
    },
    "tags": []
   },
   "outputs": [],
   "source": [
    "import os\n",
    "import json\n",
    "\n",
    "def concatenate_jsonl(file_paths, output_filename):    \n",
    "    with open(output_filename, 'w', encoding=\"utf-8\") as outfile:\n",
    "        for file_path in file_paths:\n",
    "            with open(file_path, 'r', encoding=\"utf-8\") as infile:\n",
    "                outfile.writelines(infile.readlines())\n",
    "    \n",
    "    return output_filename\n",
    "\n",
    "\n",
    "dev_files = [\n",
    "    \"en_ar_dev.jsonl\",\n",
    "    \"en_az_dev.jsonl\",\n",
    "    \"en_fa_dev.jsonl\",\n",
    "    \"en_he_dev.jsonl\",\n",
    "    \"en_kk_dev.jsonl\",\n",
    "    \"en_ky_dev.jsonl\",\n",
    "    \"en_tr_dev.jsonl\",\n",
    "]\n",
    "dev_files_long = [\"/home/jupyter/datasphere/project/data/flores200_dev/\" + name for name in dev_files]\n",
    "\n",
    "test_files = [\n",
    "    \"en_ar_devtest.jsonl\",\n",
    "    \"en_az_devtest.jsonl\",\n",
    "    \"en_fa_devtest.jsonl\",\n",
    "    \"en_he_devtest.jsonl\",\n",
    "    \"en_kk_devtest.jsonl\",\n",
    "    \"en_ky_devtest.jsonl\",\n",
    "    \"en_tr_devtest.jsonl\",\n",
    "]\n",
    "test_files_long = [\"/home/jupyter/datasphere/project/data/flores200_devtest/\" + name for name in test_files]\n",
    "\n",
    "\n",
    "output_dev = concatenate_jsonl(dev_files_long, \"/home/jupyter/datasphere/project/data/flores200_dev/turkic_without_uz.jsonl\")\n",
    "output_test = concatenate_jsonl(test_files_long, \"/home/jupyter/datasphere/project/data/flores200_devtest/turkic_without_uz.jsonl\")\n"
   ]
  },
  {
   "cell_type": "code",
   "id": "62eeb28a-38c1-4fe7-939a-bcaccfa264a1",
   "metadata": {
    "execution": {
     "iopub.execute_input": "2024-10-16T09:40:32.308960Z",
     "iopub.status.busy": "2024-10-16T09:40:32.307850Z",
     "iopub.status.idle": "2024-10-16T09:40:32.466625Z",
     "shell.execute_reply": "2024-10-16T09:40:32.465327Z",
     "shell.execute_reply.started": "2024-10-16T09:40:32.308915Z"
    },
    "tags": []
   },
   "source": [
    "dev_files.append(\"en_uz_dev.jsonl\")\n",
    "dev_files_long = [\"/home/jupyter/datasphere/project/data/flores200_dev/\" + name for name in dev_files]\n",
    "\n",
    "test_files.append(\"en_uz_devtest.jsonl\")\n",
    "test_files_long = [\"/home/jupyter/datasphere/project/data/flores200_devtest/\" + name for name in test_files]\n",
    "\n",
    "\n",
    "output_dev = concatenate_jsonl(dev_files_long, \"/home/jupyter/datasphere/project/data/flores200_dev/turkic.jsonl\")\n",
    "output_test = concatenate_jsonl(test_files_long, \"/home/jupyter/datasphere/project/data/flores200_devtest/turkic.jsonl\")"
   ],
   "outputs": [],
   "execution_count": null
  }
 ],
 "metadata": {
  "kernelspec": {
   "display_name": "DataSphere Kernel",
   "language": "python",
   "name": "python3"
  },
  "language_info": {
   "codemirror_mode": {
    "name": "ipython",
    "version": 3
   },
   "file_extension": ".py",
   "mimetype": "text/x-python",
   "name": "python",
   "nbconvert_exporter": "python",
   "pygments_lexer": "ipython3",
   "version": "3.10.12"
  }
 },
 "nbformat": 4,
 "nbformat_minor": 5
}
